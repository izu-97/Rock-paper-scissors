{
 "cells": [
  {
   "cell_type": "markdown",
   "metadata": {},
   "source": [
    "# Rock paper scissors lizard spock"
   ]
  },
  {
   "cell_type": "markdown",
   "metadata": {},
   "source": [
    "In this notebook we will be programming the famous game of rock paper scissors lizard spock. The main goal is to beat the computer. The user can choose the number of rounds that will be played as well as the mode, either classic (rock, paper, scissors) or complex (rock, paper, scissors, lizard, spock) or imposible (you will lose everytime).\n",
    "\n",
    "The winner is determined by the minimun number of wins based on the number of rounds choosen at the beggining of the game."
   ]
  },
  {
   "cell_type": "code",
   "execution_count": 1,
   "metadata": {},
   "outputs": [],
   "source": [
    "import random\n",
    "import math"
   ]
  },
  {
   "cell_type": "markdown",
   "metadata": {},
   "source": [
    "## Classic mode"
   ]
  },
  {
   "cell_type": "code",
   "execution_count": 2,
   "metadata": {},
   "outputs": [],
   "source": [
    "def round_choose():\n",
    "    try:\n",
    "        rounds = int(input(\"please choose the number of rounds to be played\"))\n",
    "        rounds_to_win = math.ceil(rounds/2)\n",
    "        if rounds%2 == 1:\n",
    "            print (f\"You will play {rounds} rounds and you need {rounds_to_win} to win\")\n",
    "            return [rounds, rounds_to_win]\n",
    "        elif rounds%2 == 0:\n",
    "            print(\"Please choose a odd number\")\n",
    "            return round_choose()\n",
    "    except ValueError:\n",
    "        print(\"Please choose a odd number\")\n",
    "        return round_choose()"
   ]
  },
  {
   "cell_type": "code",
   "execution_count": 3,
   "metadata": {},
   "outputs": [],
   "source": [
    "def choose_your_poison():\n",
    "    options = [\"rock\", \"paper\", \"scissors\"]\n",
    "    player_choice = input(\"hello please choose betweeen rock paper and scissors:\").lower()\n",
    "    if player_choice in options:\n",
    "        print(f\"You choose {player_choice}\")\n",
    "        comp_choice = random.choice(options)\n",
    "        print (f\"The computer choose {comp_choice}\")\n",
    "        return [player_choice, comp_choice]\n",
    "    else:\n",
    "        print(\"please choose a valid symbol\")\n",
    "        return choose_your_poison()\n",
    "        \n"
   ]
  },
  {
   "cell_type": "code",
   "execution_count": 4,
   "metadata": {},
   "outputs": [],
   "source": [
    "def resolve():\n",
    "    player_wins = 0\n",
    "    comp_wins = 0\n",
    "    rounds_lst = round_choose()[1]\n",
    "    while player_wins != rounds_lst and comp_wins != rounds_lst:\n",
    "        symbol_lst = choose_your_poison()\n",
    "        if (symbol_lst[0] == \"rock\" and symbol_lst[1] == \"scissors\") or (symbol_lst[0] == \"paper\" and symbol_lst[1] == \"rock\") or (symbol_lst[0] == \"scissors\" and symbol_lst[1] == \"paper\"):\n",
    "            player_wins += 1\n",
    "            print(\"Player wins this round\")\n",
    "            print(f\"Player has won {player_wins}\")\n",
    "            print(f\"Computer has won {comp_wins}\")\n",
    "            print(f\"Matches to win {rounds_lst}\")\n",
    "        elif (symbol_lst[1] == \"rock\" and symbol_lst[0] == \"scissors\") or (symbol_lst[1] == \"paper\" and symbol_lst[0] == \"rock\") or (symbol_lst[1] == \"scissors\" and symbol_lst[0] == \"paper\"):\n",
    "            comp_wins += 1\n",
    "            print(\"Computer wins this round\")\n",
    "            print(f\"Player has won {player_wins}\")\n",
    "            print(f\"Computer has won {comp_wins}\")\n",
    "            print(f\"Matches to win {rounds_lst}\")\n",
    "        else:\n",
    "            print(\"It is a tie\")\n",
    "            print(f\"Player has won {player_wins}\")\n",
    "            print(f\"Computer has won {comp_wins}\")\n",
    "            print(f\"Matches to win {rounds_lst}\")\n",
    "    if player_wins == rounds_lst:\n",
    "        print (\"Congratulations you won the game\")\n",
    "    if comp_wins == rounds_lst:\n",
    "        print (\"Computer won the game\")"
   ]
  },
  {
   "cell_type": "markdown",
   "metadata": {},
   "source": [
    "## Complex mode"
   ]
  },
  {
   "cell_type": "code",
   "execution_count": 5,
   "metadata": {},
   "outputs": [],
   "source": [
    "def choose_your_poison_complex():\n",
    "    options = [\"rock\", \"paper\", \"scissors\", \"lizard\", \"spock\"]\n",
    "    player_choice = input(\"hello please choose betweeen rock paper scissors lizard or spock:\").lower()\n",
    "    if player_choice in options:\n",
    "        print(f\"You choose {player_choice}\")\n",
    "        comp_choice = random.choice(options)\n",
    "        print (f\"The computer choose {comp_choice}\")\n",
    "        return [player_choice, comp_choice]\n",
    "    else:\n",
    "        print(\"please choose a valid symbol\")\n",
    "        return choose_your_poison_complex()\n",
    "        "
   ]
  },
  {
   "cell_type": "code",
   "execution_count": 6,
   "metadata": {},
   "outputs": [],
   "source": [
    "def resolve_complex():\n",
    "    player_wins = 0\n",
    "    comp_wins = 0\n",
    "    rounds_lst = round_choose()[1]\n",
    "    while player_wins != rounds_lst and comp_wins != rounds_lst:\n",
    "        symbol_lst = choose_your_poison_complex()\n",
    "        if (symbol_lst[0] == \"rock\" and symbol_lst[1] == \"scissors\") or (symbol_lst[0] == \"rock\" and symbol_lst[1] == \"lizard\") or (symbol_lst[0] == \"paper\" and symbol_lst[1] == \"rock\") or (symbol_lst[0] == \"paper\" and symbol_lst[1] == \"spock\") or (symbol_lst[0] == \"scissors\" and symbol_lst[1] == \"paper\") or (symbol_lst[0] == \"scissors\" and symbol_lst[1] == \"lizard\") or (symbol_lst[0] == \"lizard\" and symbol_lst[1] == \"paper\") or (symbol_lst[0] == \"lizard\" and symbol_lst[1] == \"spock\") or (symbol_lst[0] == \"spock\" and symbol_lst[1] == \"scissors\") or (symbol_lst[0] == \"spock\" and symbol_lst[1] == \"rock\"):\n",
    "            player_wins += 1\n",
    "            print(\"Player wins this round\")\n",
    "            print(f\"Player has won {player_wins}\")\n",
    "            print(f\"Computer has won {comp_wins}\")\n",
    "            print(f\"Matches to win {rounds_lst}\")\n",
    "        elif (symbol_lst[1] == \"rock\" and symbol_lst[0] == \"scissors\") or (symbol_lst[1] == \"rock\" and symbol_lst[0] == \"lizard\") or (symbol_lst[1] == \"paper\" and symbol_lst[0] == \"rock\") or (symbol_lst[1] == \"paper\" and symbol_lst[0] == \"spock\") or (symbol_lst[1] == \"scissors\" and symbol_lst[0] == \"paper\") or (symbol_lst[1] == \"scissors\" and symbol_lst[0] == \"lizard\") or (symbol_lst[1] == \"lizard\" and symbol_lst[0] == \"paper\") or (symbol_lst[1] == \"lizard\" and symbol_lst[0] == \"spock\") or (symbol_lst[1] == \"spock\" and symbol_lst[0] == \"scissors\") or (symbol_lst[1] == \"spock\" and symbol_lst[0] == \"rock\"):\n",
    "            comp_wins += 1\n",
    "            print(\"Computer wins this round\")\n",
    "            print(f\"Player has won {player_wins}\")\n",
    "            print(f\"Computer has won {comp_wins}\")\n",
    "            print(f\"Matches to win {rounds_lst}\")\n",
    "        else:\n",
    "            print(\"It is a tie\")\n",
    "            print(f\"Player has won {player_wins}\")\n",
    "            print(f\"Computer has won {comp_wins}\")\n",
    "            print(f\"Matches to win {rounds_lst}\")\n",
    "    if player_wins == rounds_lst:\n",
    "        print (\"Congratulations you won the game\")\n",
    "    if comp_wins == rounds_lst:\n",
    "        print (\"Computer won the game\")"
   ]
  },
  {
   "cell_type": "markdown",
   "metadata": {},
   "source": [
    "# Imposible mode"
   ]
  },
  {
   "cell_type": "code",
   "execution_count": 7,
   "metadata": {},
   "outputs": [],
   "source": [
    "def choose_your_poison_imposible():\n",
    "    options = [\"rock\", \"paper\", \"scissors\", \"lizard\", \"spock\"]\n",
    "    player_choice = input(\"hello please choose betweeen rock paper scissors lizard or spock:\").lower()\n",
    "    if player_choice in options:\n",
    "        print(f\"You choose {player_choice}\")\n",
    "        if player_choice == \"rock\":\n",
    "            comp_choice = \"paper\"\n",
    "        if player_choice == \"paper\":\n",
    "            comp_choice = \"lizard\"\n",
    "        if player_choice == \"scissors\":\n",
    "            comp_choice = \"spock\"\n",
    "        if player_choice == \"lizard\":\n",
    "            comp_choice = \"scissors\"\n",
    "        if player_choice == \"spock\":\n",
    "            comp_choice = \"paper\"\n",
    "        print (f\"The computer choose {comp_choice}\")\n",
    "        return [player_choice, comp_choice]\n",
    "    else:\n",
    "        print(\"please choose a valid symbol\")\n",
    "        return choose_your_poison_complex()"
   ]
  },
  {
   "cell_type": "code",
   "execution_count": 8,
   "metadata": {},
   "outputs": [],
   "source": [
    "def resolve_imposible():\n",
    "    player_wins = 0\n",
    "    comp_wins = 0\n",
    "    rounds_lst = round_choose()[1]\n",
    "    while player_wins != rounds_lst and comp_wins != rounds_lst:\n",
    "        symbol_lst = choose_your_poison_imposible()\n",
    "        if (symbol_lst[0] == \"rock\" and symbol_lst[1] == \"scissors\") or (symbol_lst[0] == \"rock\" and symbol_lst[1] == \"lizard\") or (symbol_lst[0] == \"paper\" and symbol_lst[1] == \"rock\") or (symbol_lst[0] == \"paper\" and symbol_lst[1] == \"spock\") or (symbol_lst[0] == \"scissors\" and symbol_lst[1] == \"paper\") or (symbol_lst[0] == \"scissors\" and symbol_lst[1] == \"lizard\") or (symbol_lst[0] == \"lizard\" and symbol_lst[1] == \"paper\") or (symbol_lst[0] == \"lizard\" and symbol_lst[1] == \"spock\") or (symbol_lst[0] == \"spock\" and symbol_lst[1] == \"scissors\") or (symbol_lst[0] == \"spock\" and symbol_lst[1] == \"rock\"):\n",
    "            player_wins += 1\n",
    "            print(\"Player wins this round\")\n",
    "            print(f\"Player has won {player_wins}\")\n",
    "            print(f\"Computer has won {comp_wins}\")\n",
    "            print(f\"Matches to win {rounds_lst}\")\n",
    "        elif (symbol_lst[1] == \"rock\" and symbol_lst[0] == \"scissors\") or (symbol_lst[1] == \"rock\" and symbol_lst[0] == \"lizard\") or (symbol_lst[1] == \"paper\" and symbol_lst[0] == \"rock\") or (symbol_lst[1] == \"paper\" and symbol_lst[0] == \"spock\") or (symbol_lst[1] == \"scissors\" and symbol_lst[0] == \"paper\") or (symbol_lst[1] == \"scissors\" and symbol_lst[0] == \"lizard\") or (symbol_lst[1] == \"lizard\" and symbol_lst[0] == \"paper\") or (symbol_lst[1] == \"lizard\" and symbol_lst[0] == \"spock\") or (symbol_lst[1] == \"spock\" and symbol_lst[0] == \"scissors\") or (symbol_lst[1] == \"spock\" and symbol_lst[0] == \"rock\"):\n",
    "            comp_wins += 1\n",
    "            print(\"Computer wins this round\")\n",
    "            print(f\"Player has won {player_wins}\")\n",
    "            print(f\"Computer has won {comp_wins}\")\n",
    "            print(f\"Matches to win {rounds_lst}\")\n",
    "        else:\n",
    "            print(\"It is a tie\")\n",
    "            print(f\"Player has won {player_wins}\")\n",
    "            print(f\"Computer has won {comp_wins}\")\n",
    "            print(f\"Matches to win {rounds_lst}\")\n",
    "    if player_wins == rounds_lst:\n",
    "        print (\"Congratulations you won the game\")\n",
    "    if comp_wins == rounds_lst:\n",
    "        print (\"Computer won the game\")"
   ]
  },
  {
   "cell_type": "markdown",
   "metadata": {},
   "source": [
    "# Mode chooser"
   ]
  },
  {
   "cell_type": "code",
   "execution_count": 12,
   "metadata": {},
   "outputs": [],
   "source": [
    "def start():\n",
    "    mode = input(\"Welcome to the game please choose your mode (classic, complex, imposible )\").lower()\n",
    "    if mode == \"classic\":\n",
    "        print(\"You choose classic mode\")\n",
    "        return resolve()\n",
    "    if mode == \"complex\":\n",
    "        print(\"You choose complex mode\")\n",
    "        return resolve_complex()\n",
    "    if mode == \"imposible\":\n",
    "        print(\"You choose imposible mode\")\n",
    "        return resolve_imposible()\n",
    "    else:\n",
    "        print(\"please choose a valid mode\")\n",
    "        return start()\n",
    "        \n",
    "    "
   ]
  },
  {
   "cell_type": "code",
   "execution_count": 14,
   "metadata": {},
   "outputs": [
    {
     "name": "stdout",
     "output_type": "stream",
     "text": [
      "Welcome to the game please choose your mode (classic, complex, imposible )classic\n",
      "You choose classic mode\n",
      "please choose the number of rounds to be played3\n",
      "You will play 3 rounds and you need 2 to win\n",
      "hello please choose betweeen rock paper and scissors:paper\n",
      "You choose paper\n",
      "The computer choose paper\n",
      "It is a tie\n",
      "Player has won 0\n",
      "Computer has won 0\n",
      "Matches to win 2\n",
      "hello please choose betweeen rock paper and scissors:paper\n",
      "You choose paper\n",
      "The computer choose paper\n",
      "It is a tie\n",
      "Player has won 0\n",
      "Computer has won 0\n",
      "Matches to win 2\n",
      "hello please choose betweeen rock paper and scissors:\n",
      "please choose a valid symbol\n",
      "hello please choose betweeen rock paper and scissors:paper\n",
      "You choose paper\n",
      "The computer choose scissors\n",
      "Computer wins this round\n",
      "Player has won 0\n",
      "Computer has won 1\n",
      "Matches to win 2\n",
      "hello please choose betweeen rock paper and scissors:paper\n",
      "You choose paper\n",
      "The computer choose rock\n",
      "Player wins this round\n",
      "Player has won 1\n",
      "Computer has won 1\n",
      "Matches to win 2\n",
      "hello please choose betweeen rock paper and scissors:paper\n",
      "You choose paper\n",
      "The computer choose rock\n",
      "Player wins this round\n",
      "Player has won 2\n",
      "Computer has won 1\n",
      "Matches to win 2\n",
      "Congratulations you won the game\n"
     ]
    }
   ],
   "source": [
    "start() "
   ]
  },
  {
   "cell_type": "code",
   "execution_count": null,
   "metadata": {},
   "outputs": [],
   "source": []
  }
 ],
 "metadata": {
  "kernelspec": {
   "display_name": "Python 3",
   "language": "python",
   "name": "python3"
  },
  "language_info": {
   "codemirror_mode": {
    "name": "ipython",
    "version": 3
   },
   "file_extension": ".py",
   "mimetype": "text/x-python",
   "name": "python",
   "nbconvert_exporter": "python",
   "pygments_lexer": "ipython3",
   "version": "3.7.6"
  }
 },
 "nbformat": 4,
 "nbformat_minor": 2
}
